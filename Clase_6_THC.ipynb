{
  "nbformat": 4,
  "nbformat_minor": 0,
  "metadata": {
    "colab": {
      "provenance": [],
      "authorship_tag": "ABX9TyOdvMp0EnZGlJO41iBxiFi9",
      "include_colab_link": true
    },
    "kernelspec": {
      "name": "python3",
      "display_name": "Python 3"
    },
    "language_info": {
      "name": "python"
    }
  },
  "cells": [
    {
      "cell_type": "markdown",
      "metadata": {
        "id": "view-in-github",
        "colab_type": "text"
      },
      "source": [
        "<a href=\"https://colab.research.google.com/github/XimeeeRJ/THC-XRJ/blob/Tareas/Clase_6_THC.ipynb\" target=\"_parent\"><img src=\"https://colab.research.google.com/assets/colab-badge.svg\" alt=\"Open In Colab\"/></a>"
      ]
    },
    {
      "cell_type": "markdown",
      "source": [
        "Ejercicios de clase"
      ],
      "metadata": {
        "id": "1_2-dEYII8a6"
      }
    },
    {
      "cell_type": "code",
      "source": [
        "#Filtrar Números Pares\n",
        "numeros = list(range(1,101))\n",
        "num_pares = list(filter(lambda a : a % 2 == 0, numeros))\n",
        "print(num_pares)"
      ],
      "metadata": {
        "colab": {
          "base_uri": "https://localhost:8080/"
        },
        "id": "CNcyQPjKJC9R",
        "outputId": "882895f1-4156-4f65-f491-06b00b840a0b"
      },
      "execution_count": null,
      "outputs": [
        {
          "output_type": "stream",
          "name": "stdout",
          "text": [
            "[2, 4, 6, 8, 10, 12, 14, 16, 18, 20, 22, 24, 26, 28, 30, 32, 34, 36, 38, 40, 42, 44, 46, 48, 50, 52, 54, 56, 58, 60, 62, 64, 66, 68, 70, 72, 74, 76, 78, 80, 82, 84, 86, 88, 90, 92, 94, 96, 98, 100]\n"
          ]
        }
      ]
    },
    {
      "cell_type": "code",
      "source": [
        "#Encriptar un nombre\n",
        "\n",
        "nombre = \"Xime\"\n",
        "caracteres = [\"%\", \".\",  \":\", \";\", \"_\", \"#\"]\n",
        "nommbre_caracteres = \"\"\n",
        "for letra in nombre:\n",
        "  nombre_caracteres += letra\n",
        "#No supe que hacer despues :(\n",
        "print(nombre_caracteres)\n"
      ],
      "metadata": {
        "id": "DezyTW47LgXv"
      },
      "execution_count": null,
      "outputs": []
    },
    {
      "cell_type": "code",
      "source": [
        "A = [[1,2,3], [4,5,6], [7,8,9]]\n",
        "B = [[1,2,3], [4,5,6], [7,8,9]]\n",
        "\n",
        "for i in range(len(A)):\n",
        "  for j in range(len(A)):\n",
        "    print(A[i][j] + B[i][j])"
      ],
      "metadata": {
        "colab": {
          "base_uri": "https://localhost:8080/"
        },
        "id": "w4SAgWm0UdLs",
        "outputId": "2e90f529-1468-49fc-ec20-39587ebeb61c"
      },
      "execution_count": null,
      "outputs": [
        {
          "output_type": "stream",
          "name": "stdout",
          "text": [
            "2\n",
            "4\n",
            "6\n",
            "8\n",
            "10\n",
            "12\n",
            "14\n",
            "16\n",
            "18\n"
          ]
        }
      ]
    },
    {
      "cell_type": "code",
      "source": [
        "A = [[1,2,3], [4,5,6], [7,8,9]]\n",
        "B = [[1,2,3], [4,5,6], [7,8,9]]\n",
        "\n",
        "for i in range(len(A)):\n",
        "  for j in range(len(A)):\n",
        "    print(A[i][j] * B[i][j])"
      ],
      "metadata": {
        "id": "7WK2fnBhXvwI",
        "outputId": "de0862c4-a60c-4762-8d12-d0c7c03839ea",
        "colab": {
          "base_uri": "https://localhost:8080/"
        }
      },
      "execution_count": null,
      "outputs": [
        {
          "output_type": "stream",
          "name": "stdout",
          "text": [
            "1\n",
            "4\n",
            "9\n",
            "16\n",
            "25\n",
            "36\n",
            "49\n",
            "64\n",
            "81\n"
          ]
        }
      ]
    },
    {
      "cell_type": "markdown",
      "source": [
        "Notas de clase"
      ],
      "metadata": {
        "id": "d5K5zAWiI_qw"
      }
    },
    {
      "cell_type": "code",
      "execution_count": null,
      "metadata": {
        "colab": {
          "base_uri": "https://localhost:8080/"
        },
        "id": "GsxqXvq6AwRD",
        "outputId": "69739e43-fe3f-4f9a-9ccf-68aef70706c6"
      },
      "outputs": [
        {
          "output_type": "stream",
          "name": "stdout",
          "text": [
            "16\n"
          ]
        }
      ],
      "source": [
        "x = lambda a : a + 10\n",
        "print(x(6))"
      ]
    },
    {
      "cell_type": "code",
      "source": [
        "def mifunc(n):\n",
        "  return lambda a : a * n\n",
        "\n",
        "midoble = mifunc(2)\n",
        "print(midoble(11))"
      ],
      "metadata": {
        "colab": {
          "base_uri": "https://localhost:8080/"
        },
        "id": "_jtmQ1T5G-yy",
        "outputId": "2a6b5eb3-2a61-43bd-ca30-e122e642014d"
      },
      "execution_count": null,
      "outputs": [
        {
          "output_type": "stream",
          "name": "stdout",
          "text": [
            "22\n"
          ]
        }
      ]
    },
    {
      "cell_type": "code",
      "source": [
        "def mifunc(n):\n",
        "  return lambda a : a * n\n",
        "\n",
        "midoble = mifunc(2)\n",
        "mitriple = mifunc(3)\n",
        "\n",
        "print(midoble(11))\n",
        "print(mitriple(11))"
      ],
      "metadata": {
        "colab": {
          "base_uri": "https://localhost:8080/"
        },
        "id": "Gp9zeNCaHxwl",
        "outputId": "c9c50b58-1092-4663-d124-4705d597593b"
      },
      "execution_count": null,
      "outputs": [
        {
          "output_type": "stream",
          "name": "stdout",
          "text": [
            "22\n",
            "33\n"
          ]
        }
      ]
    }
  ]
}