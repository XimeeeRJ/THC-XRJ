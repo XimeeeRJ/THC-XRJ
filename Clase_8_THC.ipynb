{
  "nbformat": 4,
  "nbformat_minor": 0,
  "metadata": {
    "colab": {
      "provenance": [],
      "authorship_tag": "ABX9TyPYE4HS6H3nIKx3U4uNjL3n",
      "include_colab_link": true
    },
    "kernelspec": {
      "name": "python3",
      "display_name": "Python 3"
    },
    "language_info": {
      "name": "python"
    }
  },
  "cells": [
    {
      "cell_type": "markdown",
      "metadata": {
        "id": "view-in-github",
        "colab_type": "text"
      },
      "source": [
        "<a href=\"https://colab.research.google.com/github/XimeeeRJ/THC-XRJ/blob/Tareas/Clase_8_THC.ipynb\" target=\"_parent\"><img src=\"https://colab.research.google.com/assets/colab-badge.svg\" alt=\"Open In Colab\"/></a>"
      ]
    },
    {
      "cell_type": "markdown",
      "source": [
        "# **Arreglos**"
      ],
      "metadata": {
        "id": "zcaamO3lE7GB"
      }
    },
    {
      "cell_type": "code",
      "execution_count": null,
      "metadata": {
        "id": "5tniVOLpEMKP"
      },
      "outputs": [],
      "source": [
        "import numpy as np"
      ]
    },
    {
      "cell_type": "code",
      "source": [
        "arr = np.array([1,2,3,4,5])\n",
        "print(arr)\n",
        "\n",
        "print(type(arr))"
      ],
      "metadata": {
        "colab": {
          "base_uri": "https://localhost:8080/"
        },
        "id": "Ft9A63FSERlX",
        "outputId": "e0c2d7bb-8860-416b-f54d-3293d77a53a6"
      },
      "execution_count": null,
      "outputs": [
        {
          "output_type": "stream",
          "name": "stdout",
          "text": [
            "[1 2 3 4 5]\n",
            "<class 'numpy.ndarray'>\n"
          ]
        }
      ]
    },
    {
      "cell_type": "code",
      "source": [
        "arr = np.array((1,2,3,4,5))\n",
        "print(arr)\n",
        "\n",
        "print(type(arr))"
      ],
      "metadata": {
        "colab": {
          "base_uri": "https://localhost:8080/"
        },
        "id": "byQiG1s4E26I",
        "outputId": "657a65a0-9270-4ab7-85a0-09a46c050d0c"
      },
      "execution_count": null,
      "outputs": [
        {
          "output_type": "stream",
          "name": "stdout",
          "text": [
            "[1 2 3 4 5]\n",
            "<class 'numpy.ndarray'>\n"
          ]
        }
      ]
    },
    {
      "cell_type": "code",
      "source": [
        "arr = np.array([[1,2,3], [4,5,6]])\n",
        "print(arr)\n"
      ],
      "metadata": {
        "colab": {
          "base_uri": "https://localhost:8080/"
        },
        "id": "4I8vXinmFIGf",
        "outputId": "5981e506-17f9-4b2c-ee7a-db5bcc1385de"
      },
      "execution_count": null,
      "outputs": [
        {
          "output_type": "stream",
          "name": "stdout",
          "text": [
            "[[1 2 3]\n",
            " [4 5 6]]\n"
          ]
        }
      ]
    },
    {
      "cell_type": "code",
      "source": [
        "arr = np.array([[[1,2,3], [4,5,6]], [[1,2,3], [4,5,6]]])\n",
        "print(arr)\n"
      ],
      "metadata": {
        "colab": {
          "base_uri": "https://localhost:8080/"
        },
        "id": "HZrla5TCGDk_",
        "outputId": "39a06ef1-9902-479b-9b8b-662b16961040"
      },
      "execution_count": null,
      "outputs": [
        {
          "output_type": "stream",
          "name": "stdout",
          "text": [
            "[[[1 2 3]\n",
            "  [4 5 6]]\n",
            "\n",
            " [[1 2 3]\n",
            "  [4 5 6]]]\n"
          ]
        }
      ]
    },
    {
      "cell_type": "code",
      "source": [
        "arr = np.array([[1,2,3,4,5], [6,7,8,9,10]])\n",
        "print(\"Segundo elemento de la primera fila\", arr[0,1])"
      ],
      "metadata": {
        "colab": {
          "base_uri": "https://localhost:8080/"
        },
        "id": "ou4NTVw6Imu6",
        "outputId": "01aff531-b5c8-4ed3-8a44-80195b03f507"
      },
      "execution_count": null,
      "outputs": [
        {
          "output_type": "stream",
          "name": "stdout",
          "text": [
            "Segundo elemento de la primera fila 2\n"
          ]
        }
      ]
    },
    {
      "cell_type": "markdown",
      "source": [
        "# Matrices"
      ],
      "metadata": {
        "id": "4ihmuQF6J_rN"
      }
    },
    {
      "cell_type": "code",
      "source": [
        "#Suma de elementos de una matriz con listas.\n",
        "\n",
        "A = [[1,2,3], [4,5,6], [7,8,9]]\n",
        "suma = 0\n",
        "\n",
        "for i in range(len(A)):\n",
        "  for j in range(len(A)):\n",
        "   suma += A[i][j]\n",
        "\n",
        "print(suma)"
      ],
      "metadata": {
        "id": "laM-lldrKEgQ",
        "colab": {
          "base_uri": "https://localhost:8080/"
        },
        "outputId": "b9146c28-63ec-4ed4-a90e-f8148db3309a"
      },
      "execution_count": 12,
      "outputs": [
        {
          "output_type": "stream",
          "name": "stdout",
          "text": [
            "45\n"
          ]
        }
      ]
    },
    {
      "cell_type": "code",
      "source": [
        "#Suma de elementos de una matriz con numpy.\n",
        "\n",
        "import numpy as np\n",
        "\n",
        "A = np.array([[1, 2, 3], [4, 5, 6], [7, 8, 9]])\n",
        "suma = 0\n",
        "\n",
        "for i in range(len(A)):\n",
        "  for j in range(len(A)):\n",
        "\n",
        "\n",
        "print(suma)\n"
      ],
      "metadata": {
        "colab": {
          "base_uri": "https://localhost:8080/"
        },
        "id": "xnovBnroNU6M",
        "outputId": "4623afad-7862-495d-da7d-9cfa25597bf7"
      },
      "execution_count": null,
      "outputs": [
        {
          "output_type": "stream",
          "name": "stdout",
          "text": [
            "45\n"
          ]
        }
      ]
    },
    {
      "cell_type": "code",
      "source": [
        "#Producto escalar por renglones\n",
        "\n",
        "import numpy as np\n",
        "\n",
        "def PP(a,b):\n",
        "  PP = 0\n",
        "  for i in range(len(a)):\n",
        "    PP += a[i]*b[i]\n",
        "  return PP\n",
        "\n",
        "\n"
      ],
      "metadata": {
        "id": "FgCU426_RDDE"
      },
      "execution_count": 13,
      "outputs": []
    },
    {
      "cell_type": "code",
      "source": [
        "from types import prepare_class\n",
        "arr2=np.array([[1,2,3], [4,5,6], [1,1,1]])\n",
        "arr3=np.array([[1,1,1], [1,1,1], [1,1,1]])\n",
        "PP_por_reng=np.array([0,0,0])\n",
        "PP_por_col=np.array([0,0,0])\n",
        "\n",
        "for i in range(len(arr2)):\n",
        "  PP_por_reng[i]=PP(arr2[i],arr3[i])\n",
        "\n",
        "PP_por_reng"
      ],
      "metadata": {
        "colab": {
          "base_uri": "https://localhost:8080/"
        },
        "id": "pnHfrD_5XFMl",
        "outputId": "d52c6bbd-842e-4ffd-8349-4fc8a6e51df2"
      },
      "execution_count": 14,
      "outputs": [
        {
          "output_type": "execute_result",
          "data": {
            "text/plain": [
              "array([ 6, 15,  3])"
            ]
          },
          "metadata": {},
          "execution_count": 14
        }
      ]
    },
    {
      "cell_type": "code",
      "source": [
        "def agarracol(a,col):\n",
        "  nuevo=[]\n",
        "  for i in range(len(a)):\n",
        "    nuevo.append(a[i,col])\n",
        "  return np.array(nuevo)\n"
      ],
      "metadata": {
        "id": "IR14fqahYlz7"
      },
      "execution_count": 17,
      "outputs": []
    },
    {
      "cell_type": "code",
      "source": [
        "col1= agarracol(arr2, 0)\n",
        "col1"
      ],
      "metadata": {
        "colab": {
          "base_uri": "https://localhost:8080/"
        },
        "id": "7TA8pfbdZRmx",
        "outputId": "f9f865a6-e269-47e8-c758-8efaa5ac7e25"
      },
      "execution_count": 18,
      "outputs": [
        {
          "output_type": "execute_result",
          "data": {
            "text/plain": [
              "array([1, 4, 1])"
            ]
          },
          "metadata": {},
          "execution_count": 18
        }
      ]
    },
    {
      "cell_type": "code",
      "source": [
        "for i in range(len(arr)):\n",
        "  PP_por_col[i]=PP(agarracol(arr2,i),agarracol(arr3,i))\n",
        "\n",
        "PP_por_col"
      ],
      "metadata": {
        "colab": {
          "base_uri": "https://localhost:8080/"
        },
        "id": "2NR8SZmuZmBB",
        "outputId": "23573a0c-a12e-4f5e-dda5-2961661726c1"
      },
      "execution_count": 19,
      "outputs": [
        {
          "output_type": "execute_result",
          "data": {
            "text/plain": [
              "array([6, 8, 0])"
            ]
          },
          "metadata": {},
          "execution_count": 19
        }
      ]
    }
  ]
}