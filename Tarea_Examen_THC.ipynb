{
  "nbformat": 4,
  "nbformat_minor": 0,
  "metadata": {
    "colab": {
      "provenance": [],
      "authorship_tag": "ABX9TyOy6/qiUCH4rfglRZu7f9Mc",
      "include_colab_link": true
    },
    "kernelspec": {
      "name": "python3",
      "display_name": "Python 3"
    },
    "language_info": {
      "name": "python"
    }
  },
  "cells": [
    {
      "cell_type": "markdown",
      "metadata": {
        "id": "view-in-github",
        "colab_type": "text"
      },
      "source": [
        "<a href=\"https://colab.research.google.com/github/XimeeeRJ/THC-XRJ/blob/Tareas/Tarea_Examen_THC.ipynb\" target=\"_parent\"><img src=\"https://colab.research.google.com/assets/colab-badge.svg\" alt=\"Open In Colab\"/></a>"
      ]
    },
    {
      "cell_type": "markdown",
      "source": [
        "**Tarea Examen**\n",
        "\n",
        "Alumnas:\n",
        "\n",
        "*   Paulina Ramos Reyes\n",
        "*   Ximena Rodríguez Jaramillo\n",
        "\n",
        "\n"
      ],
      "metadata": {
        "id": "VEzZ1micFz54"
      }
    },
    {
      "cell_type": "markdown",
      "source": [
        "Ejercicio 1. Sumas de matrices rectangulares."
      ],
      "metadata": {
        "id": "kn0mquZuE-om"
      }
    },
    {
      "cell_type": "code",
      "source": [
        "import numpy as np"
      ],
      "metadata": {
        "id": "5xR1JxCOwkRO"
      },
      "execution_count": 3,
      "outputs": []
    },
    {
      "cell_type": "code",
      "source": [
        "#Creacion de dos matrices con numpy\n",
        "arr1 = np.array([[1,2,3],[4,5,6],[7,8,9]])\n",
        "arr2 = np.array([[10,11,12],[13,14,15],[16,17,18]])\n",
        "#Creamos la matriz c del tamaño de arr1 con ceros\n",
        "C = np.zeros_like(arr1)\n",
        "\n",
        "#For's para las filas y columnas de las matrices arr1 y arr2\n",
        "for i in range (len(arr1)):\n",
        "  for j in range(len(arr1)):\n",
        "\n",
        "      #Suma de los elementos de las matrices arr1 y arr2 y se guarda en la matriz C\n",
        "      C[i][j] = (arr1[i][j] + arr2[i][j])\n",
        "\n",
        "print(\"A=\")\n",
        "print(arr1[0:3, 0:3])\n",
        "print(\"B=\")\n",
        "print(arr2[0:3, 0:3])\n",
        "print(f\"La suma de matrices es\")\n",
        "print(C)"
      ],
      "metadata": {
        "id": "XZPvZkwAE-fv",
        "colab": {
          "base_uri": "https://localhost:8080/"
        },
        "outputId": "1014e15b-73b5-464b-9494-0ab835a5cda7"
      },
      "execution_count": 4,
      "outputs": [
        {
          "output_type": "stream",
          "name": "stdout",
          "text": [
            "A=\n",
            "[[1 2 3]\n",
            " [4 5 6]\n",
            " [7 8 9]]\n",
            "B=\n",
            "[[10 11 12]\n",
            " [13 14 15]\n",
            " [16 17 18]]\n",
            "La suma de matrices es\n",
            "[[11 13 15]\n",
            " [17 19 21]\n",
            " [23 25 27]]\n"
          ]
        }
      ]
    },
    {
      "cell_type": "markdown",
      "source": [
        "Ejercicio 2. Multiplicación entrada a entrada rectangulares."
      ],
      "metadata": {
        "id": "SuPy2S6aE-Re"
      }
    },
    {
      "cell_type": "code",
      "source": [
        "#Creacion de las matrices arr1 y arr2\n",
        "arr1 = np.array([[1,2,3],[4,5,6],[7,8,9]])\n",
        "arr2 = np.array([[10,11,12],[13,14,15],[16,17,18]])\n",
        "#creamos la matriz C de tamaño arr1\n",
        "C = np.zeros_like(arr1)\n",
        "\n",
        "#For's para las columnas y filas de las matrices arr1 y arr2\n",
        "for i in range (len(arr1)):\n",
        "  for j in range(len(arr1)):\n",
        "    #Multiplicacion de los elementos de arr1 y arr2 y el resultado se guarda en la mtriz C.\n",
        "    C[i][j] = (arr1[i][j] * arr2[i][j])\n",
        "\n",
        "print(\"A=\")\n",
        "print(arr1[0:3, 0:3])\n",
        "print(\"B=\")\n",
        "print(arr2[0:3, 0:3])\n",
        "print(f\"La multiplicación de matrices es\")\n",
        "print(C)"
      ],
      "metadata": {
        "id": "Iz6bkjJzE-G6",
        "colab": {
          "base_uri": "https://localhost:8080/"
        },
        "outputId": "aaf62c35-8053-41a6-9e79-8b1127c4ffa0"
      },
      "execution_count": 5,
      "outputs": [
        {
          "output_type": "stream",
          "name": "stdout",
          "text": [
            "A=\n",
            "[[1 2 3]\n",
            " [4 5 6]\n",
            " [7 8 9]]\n",
            "B=\n",
            "[[10 11 12]\n",
            " [13 14 15]\n",
            " [16 17 18]]\n",
            "La multiplicación de matrices es\n",
            "[[ 10  22  36]\n",
            " [ 52  70  90]\n",
            " [112 136 162]]\n"
          ]
        }
      ]
    },
    {
      "cell_type": "markdown",
      "source": [
        "Ejercicio 3. La traza."
      ],
      "metadata": {
        "id": "0TkP9YoyE9p0"
      }
    },
    {
      "cell_type": "code",
      "source": [
        "#Creacion de la matriz con numpy\n",
        "arr1 = np.array([[1, 2, 3], [4, 5, 6], [7, 8, 9]])\n",
        "\n",
        "#Creamos la variable dondde se guardar la suma de la diagonal principal\n",
        "traza = 0\n",
        "\n",
        "#For para las filas y columnas de la matriz\n",
        "for i in range(len(arr1)):\n",
        "    #suma de los elementos de la diagonal principal\n",
        "    traza += arr1[i][i]\n",
        "\n",
        "print(\"A=\")\n",
        "print(arr1)\n",
        "print(f\"La traza de la matriz A es\", traza)"
      ],
      "metadata": {
        "id": "kDtBG8aPE9OS",
        "colab": {
          "base_uri": "https://localhost:8080/"
        },
        "outputId": "49825c22-f1bf-49f9-9ab5-70ab3a10242f"
      },
      "execution_count": 6,
      "outputs": [
        {
          "output_type": "stream",
          "name": "stdout",
          "text": [
            "A=\n",
            "[[1 2 3]\n",
            " [4 5 6]\n",
            " [7 8 9]]\n",
            "La traza de la matriz A es 15\n"
          ]
        }
      ]
    },
    {
      "cell_type": "markdown",
      "source": [
        "Ejercicio 4. La transpuesta de una matriz."
      ],
      "metadata": {
        "id": "J8B-vBM5-gXe"
      }
    },
    {
      "cell_type": "code",
      "source": [
        "#Definir la matríz A\n",
        "A = [[1,2,3], [4,5,6], [7,8,9]]\n",
        "\n",
        "#Creación de la función para crear la transpuesta de la matríz A\n",
        "def transpuesta(A):\n",
        "  #Creamos una nueva matríz, que sera la matríz transpuesta.\n",
        "  A_Trans = []\n",
        "\n",
        "  #Creación de filas para la matríz transpuesta.\n",
        "  for _ in range(len(A)):\n",
        "    A_Trans.append([])\n",
        "\n",
        "  #Acceder a las columnas y filas de la matríz A (Matríz original)\n",
        "  for i in range(len(A)):\n",
        "    for j in range(len(A)):\n",
        "      #Agregar el eleemto A[i][j] a la matríz transpuesta.\n",
        "      A_Trans[j].append(A[i][j])\n",
        "\n",
        "  #Regresar la matríz transpuesta\n",
        "  return A_Trans\n",
        "\n",
        "#Llamar a la función\n",
        "A_Trans = transpuesta(A)\n",
        "\n",
        "\n",
        "print(\"Matríz original\", A)\n",
        "print(\"Matríz transpuesta\", A_Trans)"
      ],
      "metadata": {
        "colab": {
          "base_uri": "https://localhost:8080/"
        },
        "id": "jB_EO2c1nhMw",
        "outputId": "e8306c1d-1bf9-4116-ffce-82b829db9727"
      },
      "execution_count": 7,
      "outputs": [
        {
          "output_type": "stream",
          "name": "stdout",
          "text": [
            "Matríz original [[1, 2, 3], [4, 5, 6], [7, 8, 9]]\n",
            "Matríz transpuesta [[1, 4, 7], [2, 5, 8], [3, 6, 9]]\n"
          ]
        }
      ]
    },
    {
      "cell_type": "markdown",
      "source": [
        "Ejercicio 5.\n",
        "El máximo y mínimo elemto de una matriz"
      ],
      "metadata": {
        "id": "1cbYuDzTWp52"
      }
    },
    {
      "cell_type": "code",
      "source": [
        "#Definir la matriz A\n",
        "A = [[1,2,3], [4,5,6], [7,12,9]]\n",
        "\n",
        "#Creamos las variables donde se guardaran el valor mínimo y máximo\n",
        "Max = A[0][0]\n",
        "Min = A[0][0]\n",
        "\n",
        "#Acceder a las columnas y filas de la matríz\n",
        "for i in range(len(A)):\n",
        "  for j in range(len(A)):\n",
        "\n",
        "    #Comparar los elementos, el elemento que se concidera como máximo con el elemento actual\n",
        "    if A[i][j] > Max:\n",
        "        Max = A[i][j]\n",
        "    #Comparar los elementos, el elemento que se concidera como mínimo con el elemento actual\n",
        "    if A[i][j] < Min:\n",
        "        Min = A[i][j]\n",
        "\n",
        "\n",
        "print(\"El valor máximo de la matríz es = \", Max)\n",
        "print(\"El valor mínimo de la matríz es = \", Min)"
      ],
      "metadata": {
        "colab": {
          "base_uri": "https://localhost:8080/"
        },
        "id": "yqTl0_Qz-CoT",
        "outputId": "0ee89133-21ec-4fb7-b806-83373eb40e46"
      },
      "execution_count": 8,
      "outputs": [
        {
          "output_type": "stream",
          "name": "stdout",
          "text": [
            "El valor máximo de la matríz es =  12\n",
            "El valor mínimo de la matríz es =  1\n"
          ]
        }
      ]
    },
    {
      "cell_type": "markdown",
      "source": [
        "Ejercicio 6. La suma del cuadrado de los elementos de una matriz."
      ],
      "metadata": {
        "id": "iE4aKYjZ-LtI"
      }
    },
    {
      "cell_type": "code",
      "source": [
        "#Definir la matriz A\n",
        "A = [[1,1,1], [1,1,1], [1,1,1]]\n",
        "\n",
        "#Variable en la que se guardara la suma de los elementos de la matríz\n",
        "suma_cuadrados = 0\n",
        "\n",
        "#Filas de la matríz\n",
        "for i in range(len(A)):\n",
        "\n",
        "  #Columnas de la matríz\n",
        "  for j in range(len(A)):\n",
        "\n",
        "    #Calcular la suma de los cuadrados de los elementos de la matríz\n",
        "    suma_cuadrados += A[i][j] ** 2\n",
        "\n",
        "\n",
        "print(\"La suma de los cuadrados de los elementos de la matríz, es:\", suma_cuadrados)"
      ],
      "metadata": {
        "id": "mMFWEZOxW3i3",
        "colab": {
          "base_uri": "https://localhost:8080/"
        },
        "outputId": "78fdcd69-c322-4ab4-eef7-49692e52ab7b"
      },
      "execution_count": 9,
      "outputs": [
        {
          "output_type": "stream",
          "name": "stdout",
          "text": [
            "La suma de los cuadrados de los elementos de la matríz, es: 9\n"
          ]
        }
      ]
    },
    {
      "cell_type": "markdown",
      "source": [
        "Ejercicio 7. La potencia de matrices"
      ],
      "metadata": {
        "id": "Y-ry-BGnW_Rl"
      }
    },
    {
      "cell_type": "code",
      "execution_count": 10,
      "metadata": {
        "id": "6CrYm1mIWiTd",
        "colab": {
          "base_uri": "https://localhost:8080/"
        },
        "outputId": "1e7387b9-3174-4171-9f68-6283554c3084"
      },
      "outputs": [
        {
          "output_type": "stream",
          "name": "stdout",
          "text": [
            "Matríz original [[1, 1, 1], [1, 1, 1], [1, 1, 1]]\n",
            "Matriz elevada al valor de n [[3, 3, 3], [3, 3, 3], [3, 3, 3]]\n"
          ]
        }
      ],
      "source": [
        "#Definir la matríz A\n",
        "A = [[1, 1, 1], [1, 1, 1], [1, 1, 1]]\n",
        "#Crear la variable n para el valor de la potencia\n",
        "n = 2\n",
        "\n",
        "#Crear la función para poder hacer la potencia\n",
        "def pot_mat(A, n):\n",
        "  resultado = A\n",
        "\n",
        "  #Multiplicamos la matríz por si misma n-1 veces\n",
        "  for _ in range(n - 1):\n",
        "    A_elev = []\n",
        "    for i in range(len(A)):\n",
        "      fila = []\n",
        "      for j in range(len(A)):\n",
        "        #Calcular la potencia de cada elemento\n",
        "        fila.append(sum(A[i][k] * resultado[k][j] for k in range(len(A))))\n",
        "      A_elev.append(fila)\n",
        "    resultado = A_elev\n",
        "\n",
        "  return resultado\n",
        "\n",
        "#Mandar llamar a la función\n",
        "resultado = pot_mat(A, n)\n",
        "print(\"Matríz original\", A)\n",
        "print(\"Matriz elevada al valor de n\", resultado)"
      ]
    }
  ]
}