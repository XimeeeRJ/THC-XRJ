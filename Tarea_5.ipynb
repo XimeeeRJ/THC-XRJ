{
  "nbformat": 4,
  "nbformat_minor": 0,
  "metadata": {
    "colab": {
      "provenance": [],
      "authorship_tag": "ABX9TyPcnNHIimMehr3xOvHY1cqU",
      "include_colab_link": true
    },
    "kernelspec": {
      "name": "python3",
      "display_name": "Python 3"
    },
    "language_info": {
      "name": "python"
    }
  },
  "cells": [
    {
      "cell_type": "markdown",
      "metadata": {
        "id": "view-in-github",
        "colab_type": "text"
      },
      "source": [
        "<a href=\"https://colab.research.google.com/github/XimeeeRJ/THC-XRJ/blob/Tareas/Tarea_5.ipynb\" target=\"_parent\"><img src=\"https://colab.research.google.com/assets/colab-badge.svg\" alt=\"Open In Colab\"/></a>"
      ]
    },
    {
      "cell_type": "code",
      "execution_count": null,
      "metadata": {
        "colab": {
          "base_uri": "https://localhost:8080/"
        },
        "id": "aAAIahzg-PdT",
        "outputId": "81204365-daba-47d3-c8af-dd2ff135935f"
      },
      "outputs": [
        {
          "output_type": "stream",
          "name": "stdout",
          "text": [
            "Ingrese un número: 60\n",
            "Ingrese un número: 28\n",
            "Ingrese un número: 77\n",
            "Ingrese un número: 1\n",
            "Ingrese un número: 6\n",
            "Lista que incluye los valores agregados = [25, 19, 86, 97, 34, 60, 28, 77, 1, 6]\n",
            "El promedio de la lista actualizada  43.3\n"
          ]
        }
      ],
      "source": [
        "\"\"\"\n",
        "TAREA #5\n",
        "Alumna: Rodríguez Jaramillo Ximena\n",
        "\n",
        "\n",
        "Ejercicio 1\n",
        "Declarar una lista con 5 números. Posteriormente pedirle al usuario que ingrese 5 números\n",
        "los cuales se deberán guardar en la lista.\n",
        "Finalmente, obtenga el promedio de los valores en la lista.\n",
        "\"\"\"\n",
        "\n",
        "\n",
        "#Variables para sacar el promedio\n",
        "total = 0\n",
        "cantidad_elementos = 0\n",
        "\n",
        "#Lista inicial\n",
        "lista = [25, 19, 86, 97, 34]\n",
        "\n",
        "#For para solicitar los números al usuario\n",
        "for i in range(5):\n",
        "  numero = int(input(\"Ingrese un número: \")) #Solicitar un número al usuario\n",
        "  lista.append(numero) #Agregar a la lista los números que ingreso el usuario\n",
        "\n",
        "#For para sacar el promedio de la lista.\n",
        "for numero in lista:\n",
        "    total += numero\n",
        "    cantidad_elementos += 1\n",
        "\n",
        "#Cálcular el promedio\n",
        "promedio = total / cantidad_elementos\n",
        "\n",
        "print(\"Lista que incluye los valores agregados =\",lista)\n",
        "print(\"El promedio de la lista actualizada \",promedio)"
      ]
    },
    {
      "cell_type": "code",
      "source": [
        "\"\"\"Ejercicio 2\n",
        "Escribe un programa que encuentre el valor máximo y mínimo en una lista de números.\"\"\"\n",
        "\n",
        "#Lista\n",
        "lista = [77, 23, 44, 5, 19, 28, 99, 1]\n",
        "\n",
        "#Variables para mínimo y máximo\n",
        "maximo = lista[0]\n",
        "minimo = lista[0]\n",
        "\n",
        "#For para identificar los valores maximos y minimos\n",
        "for numero in lista:\n",
        "    if numero > maximo:\n",
        "        maximo = numero\n",
        "    if numero < minimo:\n",
        "        minimo = numero\n",
        "\n",
        "print(\"El valor máximo de la lista es\", maximo)\n",
        "print(\"El valor mínimo de la lista es\", minimo)"
      ],
      "metadata": {
        "colab": {
          "base_uri": "https://localhost:8080/"
        },
        "id": "w6z0cPVGEnse",
        "outputId": "9e026122-6c0f-4289-c1c2-1832e5aba9a4"
      },
      "execution_count": null,
      "outputs": [
        {
          "output_type": "stream",
          "name": "stdout",
          "text": [
            "El valor máximo de la lista es 99\n",
            "El valor mínimo de la lista es 1\n"
          ]
        }
      ]
    },
    {
      "cell_type": "code",
      "source": [
        "\"\"\"Ejercicio 3\n",
        "Dada una lista de números, crea dos listas separadas: una para números pares y otra para números impares\"\"\"\n",
        "\n",
        "#Lista inicial\n",
        "lista = [20, 45, 50, 87, 100, 2, 6, 55, 17, 99]\n",
        "\n",
        "#Lista para agregar los números pares\n",
        "num_pares = []\n",
        "#Lista para agregar los números impares\n",
        "num_impares = []\n",
        "\n",
        "#For para saber si es un número par o impar\n",
        "for numero in lista:\n",
        "  if numero %2 == 0:\n",
        "    num_pares.append(numero)\n",
        "  else:\n",
        "    num_impares.append(numero)\n",
        "\n",
        "print(\"Lista de números pares = \", num_pares)\n",
        "print(\"Lista de números impares =\", num_impares)"
      ],
      "metadata": {
        "colab": {
          "base_uri": "https://localhost:8080/"
        },
        "id": "xu4ZsIdXMQQy",
        "outputId": "acac9506-35a5-43fe-f98c-7a0b0e768862"
      },
      "execution_count": null,
      "outputs": [
        {
          "output_type": "stream",
          "name": "stdout",
          "text": [
            "Lista de números pares =  [20, 50, 100, 2, 6]\n",
            "Lista de números impares = [45, 87, 55, 17, 99]\n"
          ]
        }
      ]
    }
  ]
}