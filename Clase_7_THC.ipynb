{
  "nbformat": 4,
  "nbformat_minor": 0,
  "metadata": {
    "colab": {
      "provenance": [],
      "authorship_tag": "ABX9TyMa04hz/XNPfJF+Dm3r97E1",
      "include_colab_link": true
    },
    "kernelspec": {
      "name": "python3",
      "display_name": "Python 3"
    },
    "language_info": {
      "name": "python"
    }
  },
  "cells": [
    {
      "cell_type": "markdown",
      "metadata": {
        "id": "view-in-github",
        "colab_type": "text"
      },
      "source": [
        "<a href=\"https://colab.research.google.com/github/XimeeeRJ/THC-XRJ/blob/Tareas/Clase_7_THC.ipynb\" target=\"_parent\"><img src=\"https://colab.research.google.com/assets/colab-badge.svg\" alt=\"Open In Colab\"/></a>"
      ]
    },
    {
      "cell_type": "code",
      "execution_count": 1,
      "metadata": {
        "colab": {
          "base_uri": "https://localhost:8080/"
        },
        "id": "3ViMKKapve6o",
        "outputId": "7d3a9475-01ea-4777-87b3-614d2b466e58"
      },
      "outputs": [
        {
          "output_type": "stream",
          "name": "stdout",
          "text": [
            "0.4523795535098186\n"
          ]
        }
      ],
      "source": [
        "import random\n",
        "\n",
        "random.seed(11)\n",
        "print(random.random())"
      ]
    },
    {
      "cell_type": "code",
      "source": [
        "import random\n",
        "print(random.randint(3, 9))"
      ],
      "metadata": {
        "colab": {
          "base_uri": "https://localhost:8080/"
        },
        "id": "Ycx9FDZ40dQ5",
        "outputId": "f606d969-a12e-4bf0-f1da-f93ca4ecc118"
      },
      "execution_count": 2,
      "outputs": [
        {
          "output_type": "stream",
          "name": "stdout",
          "text": [
            "7\n"
          ]
        }
      ]
    },
    {
      "cell_type": "code",
      "source": [
        "import random\n",
        "mylist = [\"apple\", \"banana\", \"cherry\"]\n",
        "\n",
        "print(random.choice(mylist))"
      ],
      "metadata": {
        "colab": {
          "base_uri": "https://localhost:8080/"
        },
        "id": "-QrXtk2_1Bxh",
        "outputId": "a7bb53d1-312f-49dc-a3a7-f9f646d162c8"
      },
      "execution_count": 3,
      "outputs": [
        {
          "output_type": "stream",
          "name": "stdout",
          "text": [
            "banana\n"
          ]
        }
      ]
    },
    {
      "cell_type": "code",
      "source": [
        "#Matríz A\n",
        "A = [[1, 2, 3], [4, 5, 6], [7, 8, 9]]\n",
        "#Matríz B\n",
        "B = [[10, 11, 12], [13, 14, 15], [16, 17, 18]]\n",
        "\n",
        "for i in range(len(A)):\n",
        " print(A[0][i])\n",
        "\n"
      ],
      "metadata": {
        "colab": {
          "base_uri": "https://localhost:8080/"
        },
        "id": "wFd3_Bzd3ASq",
        "outputId": "83d9ecd3-2dce-4c10-f032-09d8b89f0162"
      },
      "execution_count": 9,
      "outputs": [
        {
          "output_type": "stream",
          "name": "stdout",
          "text": [
            "1\n",
            "2\n",
            "3\n"
          ]
        }
      ]
    },
    {
      "cell_type": "code",
      "source": [
        "#Matríz A\n",
        "A = [[1, 2, 3], [4, 5, 6], [7, 8, 9]]\n",
        "#Matríz B\n",
        "B = [[10, 11, 12], [13, 14, 15], [16, 17, 18]]\n",
        "\n",
        "for i in range(len(A)):\n",
        "  for j in range(len(A)):\n",
        "    print(A[i][j])"
      ],
      "metadata": {
        "colab": {
          "base_uri": "https://localhost:8080/"
        },
        "id": "t2cRF1fO_MMj",
        "outputId": "c78d6d5f-fcd6-4b45-f7c5-a77ee3c8fdf9"
      },
      "execution_count": 13,
      "outputs": [
        {
          "output_type": "stream",
          "name": "stdout",
          "text": [
            "1\n",
            "2\n",
            "3\n",
            "4\n",
            "5\n",
            "6\n",
            "7\n",
            "8\n",
            "9\n"
          ]
        }
      ]
    },
    {
      "cell_type": "code",
      "source": [
        "#Matríz A\n",
        "A = [[1, 2, 3], [4, 5, 6], [7, 8, 9]]\n",
        "#Matríz B\n",
        "B = [[10, 11, 12], [13, 14, 15], [16, 17, 18]]\n",
        "\n",
        "for i in range(len(A)):\n",
        "  for j in range(len(A)):\n",
        "    print(A[j][i])"
      ],
      "metadata": {
        "colab": {
          "base_uri": "https://localhost:8080/"
        },
        "id": "4uGwGNmT5q_J",
        "outputId": "6355b6bf-f7e1-441e-c9f5-cddf21fba7ea"
      },
      "execution_count": 12,
      "outputs": [
        {
          "output_type": "stream",
          "name": "stdout",
          "text": [
            "1\n",
            "4\n",
            "7\n",
            "2\n",
            "5\n",
            "8\n",
            "3\n",
            "6\n",
            "9\n"
          ]
        }
      ]
    },
    {
      "cell_type": "code",
      "source": [
        "#Matríz A\n",
        "A = [[1, 2, 3], [4, 5, 6], [7, 8, 9]]\n",
        "#Matríz B\n",
        "B = [[10, 11, 12], [13, 14, 15], [16, 17, 18]]\n",
        "\n",
        "for i in range(len(A)):\n",
        "  for j in range(len(A)):\n",
        "    print(A[i][j] + B[i][j])"
      ],
      "metadata": {
        "colab": {
          "base_uri": "https://localhost:8080/"
        },
        "id": "fU-5JUL3_Qji",
        "outputId": "1f75a580-85c2-43c1-c63f-108f6e1972a7"
      },
      "execution_count": 14,
      "outputs": [
        {
          "output_type": "stream",
          "name": "stdout",
          "text": [
            "11\n",
            "13\n",
            "15\n",
            "17\n",
            "19\n",
            "21\n",
            "23\n",
            "25\n",
            "27\n"
          ]
        }
      ]
    },
    {
      "cell_type": "code",
      "source": [
        "#Matríz A\n",
        "A = [[1, 2, 3], [4, 5, 6], [7, 8, 9]]\n",
        "#Matríz B\n",
        "B = [[10, 11, 12], [13, 14, 15], [16, 17, 18]]\n",
        "\n",
        "for i in range(len(A)):\n",
        "  for j in range(len(A)):\n",
        "    print(A[i][j] * B[i][j])"
      ],
      "metadata": {
        "colab": {
          "base_uri": "https://localhost:8080/"
        },
        "id": "kt7nakKR_9Ub",
        "outputId": "80fd0303-2ff4-41d9-d986-8acdd71880de"
      },
      "execution_count": 15,
      "outputs": [
        {
          "output_type": "stream",
          "name": "stdout",
          "text": [
            "10\n",
            "22\n",
            "36\n",
            "52\n",
            "70\n",
            "90\n",
            "112\n",
            "136\n",
            "162\n"
          ]
        }
      ]
    },
    {
      "cell_type": "code",
      "source": [
        "A = [5, 4, 3, 2, 1]\n",
        "n = len(A)\n",
        "for i in range(n-1):\n",
        "  if A[i] > A[i+1]:\n",
        "    print(A)\n",
        "    aux = A[i+1]\n",
        "    A[i+1]= A[i]\n",
        "    A[i] = aux\n",
        "    print(aux)"
      ],
      "metadata": {
        "colab": {
          "base_uri": "https://localhost:8080/"
        },
        "id": "TuX_83cNAkxy",
        "outputId": "1dcf9797-7b69-41a7-d905-b1fd40330c69"
      },
      "execution_count": 28,
      "outputs": [
        {
          "output_type": "stream",
          "name": "stdout",
          "text": [
            "[5, 4, 3, 2, 1]\n",
            "4\n",
            "[4, 5, 3, 2, 1]\n",
            "3\n",
            "[4, 3, 5, 2, 1]\n",
            "2\n",
            "[4, 3, 2, 5, 1]\n",
            "1\n"
          ]
        }
      ]
    }
  ]
}