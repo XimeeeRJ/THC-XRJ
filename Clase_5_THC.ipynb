{
  "cells": [
    {
      "cell_type": "markdown",
      "metadata": {
        "id": "view-in-github",
        "colab_type": "text"
      },
      "source": [
        "<a href=\"https://colab.research.google.com/github/XimeeeRJ/THC-XRJ/blob/Tareas/Clase_5_THC.ipynb\" target=\"_parent\"><img src=\"https://colab.research.google.com/assets/colab-badge.svg\" alt=\"Open In Colab\"/></a>"
      ]
    },
    {
      "cell_type": "markdown",
      "source": [
        "Ejercicios de Clase"
      ],
      "metadata": {
        "id": "WxclPlhBJWQr"
      }
    },
    {
      "cell_type": "code",
      "execution_count": null,
      "metadata": {
        "colab": {
          "base_uri": "https://localhost:8080/"
        },
        "id": "Rm6Lq-Fg-eFq",
        "outputId": "8f0d79ed-80f5-4906-eaad-4b4ab3346789"
      },
      "outputs": [
        {
          "name": "stdout",
          "output_type": "stream",
          "text": [
            "[6, 8, 10, 12]\n"
          ]
        }
      ],
      "source": [
        "\"\"\"\n",
        "Alumna: Rodríguez Jaramillo Ximena\n",
        "Ejercicios de la clase 10/10/2023\n",
        "\"\"\"\n",
        "#Definir los vectores A y B\n",
        "A = [1, 2, 3, 4]\n",
        "B = [5, 6, 7, 8]#Función para la suma de vectores\n",
        "def suma_vec(A,B):\n",
        "\n",
        "  #Comparar la longitud de los vectores\n",
        "  if len(A) == len(B):\n",
        "    n = len(A)\n",
        "    #Crear la lista donde se va a agregar la suma de los vectores\n",
        "    C = []\n",
        "    for i in range(n):\n",
        "      C.append(A[i] + B[i])\n",
        "    return C\n",
        "\n",
        "resultado = suma_vec(A,B)\n",
        "print(resultado)\n"
      ]
    },
    {
      "cell_type": "code",
      "execution_count": null,
      "metadata": {
        "colab": {
          "base_uri": "https://localhost:8080/"
        },
        "id": "xIn2IAPiEIW8",
        "outputId": "5d0fb3b7-4d57-49e7-dd4e-2b8c67da6598"
      },
      "outputs": [
        {
          "output_type": "stream",
          "name": "stdout",
          "text": [
            "32\n"
          ]
        }
      ],
      "source": [
        "#Producto punto\n",
        "A = [1, 2, 3]\n",
        "B = [4, 5, 6]\n",
        "\n",
        "# Funcion para el producto punto\n",
        "def prod_pun(A,B):\n",
        "\n",
        "  # Comparar la longitud de los vectores\n",
        "  if len(A) == len(B):\n",
        "    n = len(A)\n",
        "\n",
        "  #Calcular el producto punto\n",
        "  producto = 0\n",
        "  for i in range(n):\n",
        "    producto += A[i]*B[i]\n",
        "  return producto\n",
        "\n",
        "resultado = prod_pun(A,B)\n",
        "print(resultado)"
      ]
    },
    {
      "cell_type": "markdown",
      "source": [
        "Notas de la clase."
      ],
      "metadata": {
        "id": "lq0cJDZfIu-0"
      }
    },
    {
      "cell_type": "code",
      "execution_count": null,
      "metadata": {
        "colab": {
          "base_uri": "https://localhost:8080/"
        },
        "id": "BPhs8ncwsOg6",
        "outputId": "1d3f6bd7-2dca-4d02-db34-a1fb9a035e5c"
      },
      "outputs": [
        {
          "name": "stdout",
          "output_type": "stream",
          "text": [
            "{'brand': 'Ford', 'model': 'Mustang', 'year': 2020}\n"
          ]
        }
      ],
      "source": [
        "#Diccionarios\n",
        "\n",
        "thisdict = {\n",
        "    \"brand\" : \"Ford\",\n",
        "    \"model\" : \"Mustang\",\n",
        "    \"year\" : 1964,\n",
        "    \"year\" : 2020\n",
        "}\n",
        "print(thisdict)"
      ]
    },
    {
      "cell_type": "code",
      "execution_count": null,
      "metadata": {
        "colab": {
          "base_uri": "https://localhost:8080/"
        },
        "id": "qh-SVRspw3YC",
        "outputId": "671786ca-7f84-4a3e-91ee-5411fd657c19"
      },
      "outputs": [
        {
          "name": "stdout",
          "output_type": "stream",
          "text": [
            "[2.7, 2.13, 5.7]\n"
          ]
        }
      ],
      "source": [
        "diccionario = {\"python\" : 2.7, \"zope\" : 2.13, \"plone\" : 5.7}\n",
        "l = []\n",
        "for i in diccionario.keys():\n",
        "  l.append(diccionario[i])\n",
        "print(l)"
      ]
    },
    {
      "cell_type": "code",
      "execution_count": null,
      "metadata": {
        "colab": {
          "base_uri": "https://localhost:8080/"
        },
        "id": "S9yzi1JYx2pg",
        "outputId": "d2bdeb4b-e34b-4437-fd13-2e3e9434cc38"
      },
      "outputs": [
        {
          "name": "stdout",
          "output_type": "stream",
          "text": [
            "  Nombre  Edad     Ciudad\n",
            "0   Juan    25     Madrid\n",
            "1  Maria    28  Barcelona\n",
            "2  Pedro    22   Valencia\n",
            "3  Luisa    30    Sevilla\n"
          ]
        }
      ],
      "source": [
        "import pandas as pd\n",
        "#Crear un diccionario con datos\n",
        "datos = {\n",
        "    \"Nombre\" : [\"Juan\", \"Maria\", \"Pedro\", \"Luisa\"],\n",
        "    \"Edad\" : [25, 28, 22, 30],\n",
        "    \"Ciudad\" : [\"Madrid\", \"Barcelona\", \"Valencia\", \"Sevilla\"]\n",
        "}\n",
        "\n",
        "#Crea un data friend a partir del diccionario\n",
        "dataframe = pd.DataFrame(datos)\n",
        "\n",
        "#Mostrar el Dataframe\n",
        "print(dataframe)"
      ]
    },
    {
      "cell_type": "code",
      "execution_count": null,
      "metadata": {
        "colab": {
          "base_uri": "https://localhost:8080/"
        },
        "id": "CiNzqZAazqWy",
        "outputId": "6321e93e-fd57-4971-9e14-e20abbde0b2c"
      },
      "outputs": [
        {
          "name": "stdout",
          "output_type": "stream",
          "text": [
            "(1, 2, 3, 'Hola', True)\n"
          ]
        }
      ],
      "source": [
        "#Crear una tupla\n",
        "mi_tupla = (1, 2, 3, \"Hola\", True)\n",
        "print(mi_tupla)"
      ]
    },
    {
      "cell_type": "code",
      "execution_count": null,
      "metadata": {
        "colab": {
          "base_uri": "https://localhost:8080/"
        },
        "id": "db6JERTMz-3g",
        "outputId": "1241bb66-87dc-42fb-c480-db5afb3e983f"
      },
      "outputs": [
        {
          "name": "stdout",
          "output_type": "stream",
          "text": [
            "True\n"
          ]
        }
      ],
      "source": [
        "print(mi_tupla[4])"
      ]
    },
    {
      "cell_type": "code",
      "execution_count": null,
      "metadata": {
        "colab": {
          "base_uri": "https://localhost:8080/"
        },
        "id": "prhTrJ3q0Fow",
        "outputId": "4a10fe25-ec66-4301-d42a-473432ff0d96"
      },
      "outputs": [
        {
          "name": "stdout",
          "output_type": "stream",
          "text": [
            "fresa\n",
            "mango\n",
            "tuna\n"
          ]
        }
      ],
      "source": [
        "frutas = (\"fresa\", \"mango\", \"tuna\")\n",
        "for fruta in frutas:\n",
        "  print(fruta)"
      ]
    },
    {
      "cell_type": "code",
      "execution_count": null,
      "metadata": {
        "colab": {
          "base_uri": "https://localhost:8080/"
        },
        "id": "p1dfZNNl1c_Z",
        "outputId": "0144c039-1cdb-4b20-c0d2-d64dbbcaa125"
      },
      "outputs": [
        {
          "name": "stdout",
          "output_type": "stream",
          "text": [
            "No esta en la tupla\n"
          ]
        }
      ],
      "source": [
        "frutas = (\"fresa\", \"mango\", \"tuna\")\n",
        "if \"manzana\" in frutas:\n",
        "  print(\"Esta en la tupla\")\n",
        "else:\n",
        "  print(\"No esta en la tupla\")"
      ]
    },
    {
      "cell_type": "code",
      "execution_count": null,
      "metadata": {
        "id": "9Cp_cwax19OU"
      },
      "outputs": [],
      "source": [
        "def mi_funcion():\n",
        "  print(\"Hola, te saludo desde la función\")\n"
      ]
    },
    {
      "cell_type": "code",
      "execution_count": null,
      "metadata": {
        "id": "kGktyAj03K7K"
      },
      "outputs": [],
      "source": [
        "def mi_funcion_nueva(fname):\n",
        "  print(\"Hola\"+ fname +\"te saludo desde la funcion\")"
      ]
    },
    {
      "cell_type": "code",
      "execution_count": null,
      "metadata": {
        "colab": {
          "base_uri": "https://localhost:8080/"
        },
        "id": "v4NiUdGS4QVs",
        "outputId": "8602783b-6288-4313-8ac0-7437331550e7"
      },
      "outputs": [
        {
          "name": "stdout",
          "output_type": "stream",
          "text": [
            "Hola Xime RJ te saludo desde la fucion\n"
          ]
        }
      ],
      "source": [
        "def Nombre(fname,lname):\n",
        "  print(\"Hola \" +fname+ \" \"+ lname+ \" te saludo desde la fucion\")\n",
        "Nombre(\"Xime\", \"RJ\")"
      ]
    },
    {
      "cell_type": "code",
      "execution_count": null,
      "metadata": {
        "colab": {
          "base_uri": "https://localhost:8080/"
        },
        "id": "bwCDQouw44vs",
        "outputId": "552883d1-a10a-4f78-c5ee-896c2e4edaeb"
      },
      "outputs": [
        {
          "name": "stdout",
          "output_type": "stream",
          "text": [
            "El niño menor es Irving\n"
          ]
        }
      ],
      "source": [
        "def mi_funcion(*kids):\n",
        "  print(\"El niño menor es \" + kids[2])\n",
        "\n",
        "mi_funcion(\"Emilio\", \"Tobias\", \"Irving\", \"Linus\")"
      ]
    },
    {
      "cell_type": "code",
      "execution_count": null,
      "metadata": {
        "colab": {
          "base_uri": "https://localhost:8080/"
        },
        "id": "QZn30Nia5f-h",
        "outputId": "6f85821e-daed-4a67-ae55-ed76569ba8eb"
      },
      "outputs": [
        {
          "name": "stdout",
          "output_type": "stream",
          "text": [
            "El niño menor es Linus\n"
          ]
        }
      ],
      "source": [
        "def mi_funcion(niño3, niño2, niño1):\n",
        "  print(\"El niño menor es \" + niño3)\n",
        "\n",
        "mi_funcion(niño1 = \"Emil\", niño2 = \"Tobias\", niño3 = \"Linus\")"
      ]
    },
    {
      "cell_type": "code",
      "execution_count": null,
      "metadata": {
        "colab": {
          "base_uri": "https://localhost:8080/"
        },
        "id": "R03PYVe96W7L",
        "outputId": "64ec44e2-f8a4-43ee-b6a5-30bb291a4c43"
      },
      "outputs": [
        {
          "name": "stdout",
          "output_type": "stream",
          "text": [
            "Yo soy de México\n"
          ]
        }
      ],
      "source": [
        "def mi_funcion(pais=\"México\"):\n",
        "  print(\"Yo soy de \"+ pais)\n",
        "\n",
        "mi_funcion()"
      ]
    }
  ],
  "metadata": {
    "colab": {
      "provenance": [],
      "authorship_tag": "ABX9TyPxQfRm//uVt2qOUu8xKn6H",
      "include_colab_link": true
    },
    "kernelspec": {
      "display_name": "Python 3",
      "name": "python3"
    },
    "language_info": {
      "name": "python"
    }
  },
  "nbformat": 4,
  "nbformat_minor": 0
}