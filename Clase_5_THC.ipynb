{
  "nbformat": 4,
  "nbformat_minor": 0,
  "metadata": {
    "colab": {
      "provenance": [],
      "authorship_tag": "ABX9TyP8+Avyk263OGR4CErO3zv2",
      "include_colab_link": true
    },
    "kernelspec": {
      "name": "python3",
      "display_name": "Python 3"
    },
    "language_info": {
      "name": "python"
    }
  },
  "cells": [
    {
      "cell_type": "markdown",
      "metadata": {
        "id": "view-in-github",
        "colab_type": "text"
      },
      "source": [
        "<a href=\"https://colab.research.google.com/github/XimeeeRJ/THC-XRJ/blob/Tareas/Clase_5_THC.ipynb\" target=\"_parent\"><img src=\"https://colab.research.google.com/assets/colab-badge.svg\" alt=\"Open In Colab\"/></a>"
      ]
    },
    {
      "cell_type": "code",
      "execution_count": 2,
      "metadata": {
        "colab": {
          "base_uri": "https://localhost:8080/"
        },
        "id": "BPhs8ncwsOg6",
        "outputId": "1d3f6bd7-2dca-4d02-db34-a1fb9a035e5c"
      },
      "outputs": [
        {
          "output_type": "stream",
          "name": "stdout",
          "text": [
            "{'brand': 'Ford', 'model': 'Mustang', 'year': 2020}\n"
          ]
        }
      ],
      "source": [
        "#Diccionarios\n",
        "\n",
        "thisdict = {\n",
        "    \"brand\" : \"Ford\",\n",
        "    \"model\" : \"Mustang\",\n",
        "    \"year\" : 1964,\n",
        "    \"year\" : 2020\n",
        "}\n",
        "print(thisdict)"
      ]
    },
    {
      "cell_type": "code",
      "source": [
        "diccionario = {\"python\" : 2.7, \"zope\" : 2.13, \"plone\" : 5.7}\n",
        "l = []\n",
        "for i in diccionario.keys():\n",
        "  l.append(diccionario[i])\n",
        "print(l)"
      ],
      "metadata": {
        "colab": {
          "base_uri": "https://localhost:8080/"
        },
        "id": "qh-SVRspw3YC",
        "outputId": "671786ca-7f84-4a3e-91ee-5411fd657c19"
      },
      "execution_count": 3,
      "outputs": [
        {
          "output_type": "stream",
          "name": "stdout",
          "text": [
            "[2.7, 2.13, 5.7]\n"
          ]
        }
      ]
    },
    {
      "cell_type": "code",
      "source": [
        "import pandas as pd\n",
        "#Crear un diccionario con datos\n",
        "datos = {\n",
        "    \"Nombre\" : [\"Juan\", \"Maria\", \"Pedro\", \"Luisa\"],\n",
        "    \"Edad\" : [25, 28, 22, 30],\n",
        "    \"Ciudad\" : [\"Madrid\", \"Barcelona\", \"Valencia\", \"Sevilla\"]\n",
        "}\n",
        "\n",
        "#Crea un data friend a partir del diccionario\n",
        "dataframe = pd.DataFrame(datos)\n",
        "\n",
        "#Mostrar el Dataframe\n",
        "print(dataframe)"
      ],
      "metadata": {
        "colab": {
          "base_uri": "https://localhost:8080/"
        },
        "id": "S9yzi1JYx2pg",
        "outputId": "d2bdeb4b-e34b-4437-fd13-2e3e9434cc38"
      },
      "execution_count": 4,
      "outputs": [
        {
          "output_type": "stream",
          "name": "stdout",
          "text": [
            "  Nombre  Edad     Ciudad\n",
            "0   Juan    25     Madrid\n",
            "1  Maria    28  Barcelona\n",
            "2  Pedro    22   Valencia\n",
            "3  Luisa    30    Sevilla\n"
          ]
        }
      ]
    },
    {
      "cell_type": "code",
      "source": [
        "#Crear una tupla\n",
        "mi_tupla = (1, 2, 3, \"Hola\", True)\n",
        "print(mi_tupla)"
      ],
      "metadata": {
        "colab": {
          "base_uri": "https://localhost:8080/"
        },
        "id": "CiNzqZAazqWy",
        "outputId": "6321e93e-fd57-4971-9e14-e20abbde0b2c"
      },
      "execution_count": 5,
      "outputs": [
        {
          "output_type": "stream",
          "name": "stdout",
          "text": [
            "(1, 2, 3, 'Hola', True)\n"
          ]
        }
      ]
    },
    {
      "cell_type": "code",
      "source": [
        "print(mi_tupla[4])"
      ],
      "metadata": {
        "colab": {
          "base_uri": "https://localhost:8080/"
        },
        "id": "db6JERTMz-3g",
        "outputId": "1241bb66-87dc-42fb-c480-db5afb3e983f"
      },
      "execution_count": 6,
      "outputs": [
        {
          "output_type": "stream",
          "name": "stdout",
          "text": [
            "True\n"
          ]
        }
      ]
    },
    {
      "cell_type": "code",
      "source": [
        "frutas = (\"fresa\", \"mango\", \"tuna\")\n",
        "for fruta in frutas:\n",
        "  print(fruta)"
      ],
      "metadata": {
        "colab": {
          "base_uri": "https://localhost:8080/"
        },
        "id": "prhTrJ3q0Fow",
        "outputId": "4a10fe25-ec66-4301-d42a-473432ff0d96"
      },
      "execution_count": 7,
      "outputs": [
        {
          "output_type": "stream",
          "name": "stdout",
          "text": [
            "fresa\n",
            "mango\n",
            "tuna\n"
          ]
        }
      ]
    },
    {
      "cell_type": "code",
      "source": [
        "frutas = (\"fresa\", \"mango\", \"tuna\")\n",
        "if \"manzana\" in frutas:\n",
        "  print(\"Esta en la tupla\")\n",
        "else:\n",
        "  print(\"No esta en la tupla\")"
      ],
      "metadata": {
        "colab": {
          "base_uri": "https://localhost:8080/"
        },
        "id": "p1dfZNNl1c_Z",
        "outputId": "0144c039-1cdb-4b20-c0d2-d64dbbcaa125"
      },
      "execution_count": 10,
      "outputs": [
        {
          "output_type": "stream",
          "name": "stdout",
          "text": [
            "No esta en la tupla\n"
          ]
        }
      ]
    },
    {
      "cell_type": "code",
      "source": [
        "def mi_funcion():\n",
        "  print(\"Hola, te saludo desde la función\")\n"
      ],
      "metadata": {
        "id": "9Cp_cwax19OU"
      },
      "execution_count": 11,
      "outputs": []
    },
    {
      "cell_type": "code",
      "source": [],
      "metadata": {
        "id": "kGktyAj03K7K"
      },
      "execution_count": null,
      "outputs": []
    }
  ]
}