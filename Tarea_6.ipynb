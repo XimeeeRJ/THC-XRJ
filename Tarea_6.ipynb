{
  "nbformat": 4,
  "nbformat_minor": 0,
  "metadata": {
    "colab": {
      "provenance": [],
      "authorship_tag": "ABX9TyOOddk3y/q9xtEnzFKKQZNa",
      "include_colab_link": true
    },
    "kernelspec": {
      "name": "python3",
      "display_name": "Python 3"
    },
    "language_info": {
      "name": "python"
    }
  },
  "cells": [
    {
      "cell_type": "markdown",
      "metadata": {
        "id": "view-in-github",
        "colab_type": "text"
      },
      "source": [
        "<a href=\"https://colab.research.google.com/github/XimeeeRJ/THC-XRJ/blob/Tareas/Tarea_6.ipynb\" target=\"_parent\"><img src=\"https://colab.research.google.com/assets/colab-badge.svg\" alt=\"Open In Colab\"/></a>"
      ]
    },
    {
      "cell_type": "code",
      "execution_count": 11,
      "metadata": {
        "colab": {
          "base_uri": "https://localhost:8080/"
        },
        "id": "3zQIJsNS1M0S",
        "outputId": "2f15e3f5-7b65-468f-8705-b6de8bfbbceb"
      },
      "outputs": [
        {
          "output_type": "stream",
          "name": "stdout",
          "text": [
            "El resultado del producto de los vectores A y B es [27, 24, 18, 5]\n"
          ]
        }
      ],
      "source": [
        "\"\"\"\n",
        "Alumna: Rodríguez Jaramillo Ximena\n",
        "Tarea 6\n",
        "\"\"\"\n",
        "\n",
        "#Producto de dos vectores\n",
        "A = [9, 6, 2, 1]\n",
        "B = [3, 4, 9, 5]\n",
        "\n",
        "#Función para el producto de dos vectores\n",
        "def prod_vectores(A,B):\n",
        "\n",
        "  #Comparar la longitud de los vectores\n",
        "  if len(A) == len(B):\n",
        "    n = len(A)\n",
        "\n",
        "    #Crear la lista donde se guardara el resultado del producto.\n",
        "    C = []\n",
        "    for i in range(n):\n",
        "      C.append(A[i] * B[i])\n",
        "    return C\n",
        "\n",
        "resultado = prod_vectores(A,B)\n",
        "print(\"El resultado del producto de los vectores A y B es\", resultado)"
      ]
    },
    {
      "cell_type": "code",
      "source": [
        "#Potencia de dos vectores (n=3)\n",
        "A = [9, 6, 2, 1]\n",
        "B = [3, 4, 9, 5]\n",
        "\n",
        "#Función para elevar a la potencia\n",
        "def potencia(vector, n):\n",
        "\n",
        "  #Calcular la potencia\n",
        "  resultado = [x ** n for x in vector]\n",
        "  return resultado\n",
        "\n",
        "#Calcular la potrncia con n=3\n",
        "resultado_A = potencia(A,3)\n",
        "resultado_B = potencia(B,3)\n",
        "\n",
        "print(\"El resultado del vector A, a la potencia n=3 es\", resultado_A)\n",
        "print(\"El resultado del vector B a la potencia n=3 es\", resultado_B)"
      ],
      "metadata": {
        "colab": {
          "base_uri": "https://localhost:8080/"
        },
        "id": "BSidSyEj4QuN",
        "outputId": "7a818f2d-5d36-4671-a28c-12d4a154a07f"
      },
      "execution_count": 14,
      "outputs": [
        {
          "output_type": "stream",
          "name": "stdout",
          "text": [
            "El resultado del vector A, a la potencia n=3 es [729, 216, 8, 1]\n",
            "El resultado del vector B a la potencia n=3 es [27, 64, 729, 125]\n"
          ]
        }
      ]
    }
  ]
}